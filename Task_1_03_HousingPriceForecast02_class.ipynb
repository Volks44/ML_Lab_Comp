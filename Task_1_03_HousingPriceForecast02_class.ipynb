{
  "nbformat": 4,
  "nbformat_minor": 0,
  "metadata": {
    "colab": {
      "provenance": [],
      "include_colab_link": true
    },
    "kernelspec": {
      "name": "python3",
      "display_name": "Python 3"
    },
    "language_info": {
      "name": "python"
    }
  },
  "cells": [
    {
      "cell_type": "markdown",
      "metadata": {
        "id": "view-in-github",
        "colab_type": "text"
      },
      "source": [
        "<a href=\"https://colab.research.google.com/github/Volks44/ML_Lab/blob/main/Task_1_03_HousingPriceForecast02_class.ipynb\" target=\"_parent\"><img src=\"https://colab.research.google.com/assets/colab-badge.svg\" alt=\"Open In Colab\"/></a>"
      ]
    },
    {
      "cell_type": "markdown",
      "source": [
        "# Task 1: Housing Price Forecasting\n"
      ],
      "metadata": {
        "id": "3jpn_L3-ihNi"
      }
    },
    {
      "cell_type": "markdown",
      "source": [
        "# Import"
      ],
      "metadata": {
        "id": "PR75Kw1kMwea"
      }
    },
    {
      "cell_type": "code",
      "execution_count": null,
      "metadata": {
        "id": "2MaDWIjDKsvq"
      },
      "outputs": [],
      "source": [
        "import warnings\n",
        "warnings.filterwarnings('ignore')\n",
        "\n",
        "import numpy as np\n",
        "import pandas as pd\n",
        "\n",
        "import matplotlib.pyplot as plt\n",
        "import seaborn as sns\n",
        "\n",
        "from sklearn.linear_model import LinearRegression\n",
        "from sklearn.ensemble import GradientBoostingRegressor, RandomForestRegressor"
      ]
    },
    {
      "cell_type": "markdown",
      "source": [
        "# Data understanding"
      ],
      "metadata": {
        "id": "9IcQGTfIMyjB"
      }
    },
    {
      "cell_type": "markdown",
      "source": [
        "## Reading the dataset (csv file) into Pandas dataframe"
      ],
      "metadata": {
        "id": "lPCgY7LD8FnI"
      }
    },
    {
      "cell_type": "code",
      "source": [
        "housing_file_path = \"DataSet_LakasArak_labeled.csv\"\n",
        "housing = pd.DataFrame(pd.read_csv(housing_file_path))"
      ],
      "metadata": {
        "id": "L1AmcerZLGKJ"
      },
      "execution_count": null,
      "outputs": []
    },
    {
      "cell_type": "markdown",
      "source": [
        "## Exploring the dataframe"
      ],
      "metadata": {
        "id": "x7T1kid18dDQ"
      }
    },
    {
      "cell_type": "code",
      "source": [
        "# Check the head of the dataset\n",
        "housing.head()"
      ],
      "metadata": {
        "id": "LvhaRTjuL23B",
        "colab": {
          "base_uri": "https://localhost:8080/",
          "height": 342
        },
        "outputId": "6817f372-9fbd-4e43-a444-03ea65b68579"
      },
      "execution_count": null,
      "outputs": [
        {
          "output_type": "execute_result",
          "data": {
            "text/plain": [
              "     county             city  postcode property_type  \\\n",
              "0  Budapest    Budapest XII.       NaN          flat   \n",
              "1  Budapest      Budapest I.    1016.0          flat   \n",
              "2  Budapest    Budapest XVI.    1164.0          flat   \n",
              "3  Budapest      Budapest X.       NaN          flat   \n",
              "4  Budapest  Budapest XVIII.    1181.0          flat   \n",
              "\n",
              "                      property_subtype property_condition_type property_floor  \\\n",
              "0                brick flat (for sale)                    good              1   \n",
              "1                brick flat (for sale)                   novel              2   \n",
              "2                brick flat (for sale)                   novel              1   \n",
              "3                brick flat (for sale)                    good              4   \n",
              "4  prefabricated panel flat (for sale)                 renewed              6   \n",
              "\n",
              "  building_floor_count    view_type orientation  ... room_cnt small_room_cnt  \\\n",
              "0                  NaN  street view         NaN  ...      2.0            1.0   \n",
              "1                  NaN  street view         NaN  ...      1.0            1.0   \n",
              "2                  NaN  garden view         NaN  ...      2.0            1.0   \n",
              "3                  NaN  garden view         NaN  ...      2.0            0.0   \n",
              "4                  NaN          NaN         NaN  ...      2.0            1.0   \n",
              "\n",
              "   created_at  property_area  balcony_area price_created_at  ad_view_cnt  \\\n",
              "0  2015-02-09           65.0           0.0             23.5        605.0   \n",
              "1  2015-02-09           45.0           0.0             20.0         49.0   \n",
              "2  2015-02-09           60.0           0.0             22.0         77.0   \n",
              "3  2015-02-09           55.0           4.0             11.0        139.0   \n",
              "4  2015-02-09           60.0           3.0             10.2        176.0   \n",
              "\n",
              "   active_days  nr  split  \n",
              "0        119.0   4   test  \n",
              "1         25.0  12  train  \n",
              "2         77.0  14  train  \n",
              "3         18.0  21  train  \n",
              "4         69.0  31   test  \n",
              "\n",
              "[5 rows x 23 columns]"
            ],
            "text/html": [
              "\n",
              "  <div id=\"df-57040e9e-fcc3-4321-bd41-59f0d79a4911\" class=\"colab-df-container\">\n",
              "    <div>\n",
              "<style scoped>\n",
              "    .dataframe tbody tr th:only-of-type {\n",
              "        vertical-align: middle;\n",
              "    }\n",
              "\n",
              "    .dataframe tbody tr th {\n",
              "        vertical-align: top;\n",
              "    }\n",
              "\n",
              "    .dataframe thead th {\n",
              "        text-align: right;\n",
              "    }\n",
              "</style>\n",
              "<table border=\"1\" class=\"dataframe\">\n",
              "  <thead>\n",
              "    <tr style=\"text-align: right;\">\n",
              "      <th></th>\n",
              "      <th>county</th>\n",
              "      <th>city</th>\n",
              "      <th>postcode</th>\n",
              "      <th>property_type</th>\n",
              "      <th>property_subtype</th>\n",
              "      <th>property_condition_type</th>\n",
              "      <th>property_floor</th>\n",
              "      <th>building_floor_count</th>\n",
              "      <th>view_type</th>\n",
              "      <th>orientation</th>\n",
              "      <th>...</th>\n",
              "      <th>room_cnt</th>\n",
              "      <th>small_room_cnt</th>\n",
              "      <th>created_at</th>\n",
              "      <th>property_area</th>\n",
              "      <th>balcony_area</th>\n",
              "      <th>price_created_at</th>\n",
              "      <th>ad_view_cnt</th>\n",
              "      <th>active_days</th>\n",
              "      <th>nr</th>\n",
              "      <th>split</th>\n",
              "    </tr>\n",
              "  </thead>\n",
              "  <tbody>\n",
              "    <tr>\n",
              "      <th>0</th>\n",
              "      <td>Budapest</td>\n",
              "      <td>Budapest XII.</td>\n",
              "      <td>NaN</td>\n",
              "      <td>flat</td>\n",
              "      <td>brick flat (for sale)</td>\n",
              "      <td>good</td>\n",
              "      <td>1</td>\n",
              "      <td>NaN</td>\n",
              "      <td>street view</td>\n",
              "      <td>NaN</td>\n",
              "      <td>...</td>\n",
              "      <td>2.0</td>\n",
              "      <td>1.0</td>\n",
              "      <td>2015-02-09</td>\n",
              "      <td>65.0</td>\n",
              "      <td>0.0</td>\n",
              "      <td>23.5</td>\n",
              "      <td>605.0</td>\n",
              "      <td>119.0</td>\n",
              "      <td>4</td>\n",
              "      <td>test</td>\n",
              "    </tr>\n",
              "    <tr>\n",
              "      <th>1</th>\n",
              "      <td>Budapest</td>\n",
              "      <td>Budapest I.</td>\n",
              "      <td>1016.0</td>\n",
              "      <td>flat</td>\n",
              "      <td>brick flat (for sale)</td>\n",
              "      <td>novel</td>\n",
              "      <td>2</td>\n",
              "      <td>NaN</td>\n",
              "      <td>street view</td>\n",
              "      <td>NaN</td>\n",
              "      <td>...</td>\n",
              "      <td>1.0</td>\n",
              "      <td>1.0</td>\n",
              "      <td>2015-02-09</td>\n",
              "      <td>45.0</td>\n",
              "      <td>0.0</td>\n",
              "      <td>20.0</td>\n",
              "      <td>49.0</td>\n",
              "      <td>25.0</td>\n",
              "      <td>12</td>\n",
              "      <td>train</td>\n",
              "    </tr>\n",
              "    <tr>\n",
              "      <th>2</th>\n",
              "      <td>Budapest</td>\n",
              "      <td>Budapest XVI.</td>\n",
              "      <td>1164.0</td>\n",
              "      <td>flat</td>\n",
              "      <td>brick flat (for sale)</td>\n",
              "      <td>novel</td>\n",
              "      <td>1</td>\n",
              "      <td>NaN</td>\n",
              "      <td>garden view</td>\n",
              "      <td>NaN</td>\n",
              "      <td>...</td>\n",
              "      <td>2.0</td>\n",
              "      <td>1.0</td>\n",
              "      <td>2015-02-09</td>\n",
              "      <td>60.0</td>\n",
              "      <td>0.0</td>\n",
              "      <td>22.0</td>\n",
              "      <td>77.0</td>\n",
              "      <td>77.0</td>\n",
              "      <td>14</td>\n",
              "      <td>train</td>\n",
              "    </tr>\n",
              "    <tr>\n",
              "      <th>3</th>\n",
              "      <td>Budapest</td>\n",
              "      <td>Budapest X.</td>\n",
              "      <td>NaN</td>\n",
              "      <td>flat</td>\n",
              "      <td>brick flat (for sale)</td>\n",
              "      <td>good</td>\n",
              "      <td>4</td>\n",
              "      <td>NaN</td>\n",
              "      <td>garden view</td>\n",
              "      <td>NaN</td>\n",
              "      <td>...</td>\n",
              "      <td>2.0</td>\n",
              "      <td>0.0</td>\n",
              "      <td>2015-02-09</td>\n",
              "      <td>55.0</td>\n",
              "      <td>4.0</td>\n",
              "      <td>11.0</td>\n",
              "      <td>139.0</td>\n",
              "      <td>18.0</td>\n",
              "      <td>21</td>\n",
              "      <td>train</td>\n",
              "    </tr>\n",
              "    <tr>\n",
              "      <th>4</th>\n",
              "      <td>Budapest</td>\n",
              "      <td>Budapest XVIII.</td>\n",
              "      <td>1181.0</td>\n",
              "      <td>flat</td>\n",
              "      <td>prefabricated panel flat (for sale)</td>\n",
              "      <td>renewed</td>\n",
              "      <td>6</td>\n",
              "      <td>NaN</td>\n",
              "      <td>NaN</td>\n",
              "      <td>NaN</td>\n",
              "      <td>...</td>\n",
              "      <td>2.0</td>\n",
              "      <td>1.0</td>\n",
              "      <td>2015-02-09</td>\n",
              "      <td>60.0</td>\n",
              "      <td>3.0</td>\n",
              "      <td>10.2</td>\n",
              "      <td>176.0</td>\n",
              "      <td>69.0</td>\n",
              "      <td>31</td>\n",
              "      <td>test</td>\n",
              "    </tr>\n",
              "  </tbody>\n",
              "</table>\n",
              "<p>5 rows × 23 columns</p>\n",
              "</div>\n",
              "    <div class=\"colab-df-buttons\">\n",
              "\n",
              "  <div class=\"colab-df-container\">\n",
              "    <button class=\"colab-df-convert\" onclick=\"convertToInteractive('df-57040e9e-fcc3-4321-bd41-59f0d79a4911')\"\n",
              "            title=\"Convert this dataframe to an interactive table.\"\n",
              "            style=\"display:none;\">\n",
              "\n",
              "  <svg xmlns=\"http://www.w3.org/2000/svg\" height=\"24px\" viewBox=\"0 -960 960 960\">\n",
              "    <path d=\"M120-120v-720h720v720H120Zm60-500h600v-160H180v160Zm220 220h160v-160H400v160Zm0 220h160v-160H400v160ZM180-400h160v-160H180v160Zm440 0h160v-160H620v160ZM180-180h160v-160H180v160Zm440 0h160v-160H620v160Z\"/>\n",
              "  </svg>\n",
              "    </button>\n",
              "\n",
              "  <style>\n",
              "    .colab-df-container {\n",
              "      display:flex;\n",
              "      gap: 12px;\n",
              "    }\n",
              "\n",
              "    .colab-df-convert {\n",
              "      background-color: #E8F0FE;\n",
              "      border: none;\n",
              "      border-radius: 50%;\n",
              "      cursor: pointer;\n",
              "      display: none;\n",
              "      fill: #1967D2;\n",
              "      height: 32px;\n",
              "      padding: 0 0 0 0;\n",
              "      width: 32px;\n",
              "    }\n",
              "\n",
              "    .colab-df-convert:hover {\n",
              "      background-color: #E2EBFA;\n",
              "      box-shadow: 0px 1px 2px rgba(60, 64, 67, 0.3), 0px 1px 3px 1px rgba(60, 64, 67, 0.15);\n",
              "      fill: #174EA6;\n",
              "    }\n",
              "\n",
              "    .colab-df-buttons div {\n",
              "      margin-bottom: 4px;\n",
              "    }\n",
              "\n",
              "    [theme=dark] .colab-df-convert {\n",
              "      background-color: #3B4455;\n",
              "      fill: #D2E3FC;\n",
              "    }\n",
              "\n",
              "    [theme=dark] .colab-df-convert:hover {\n",
              "      background-color: #434B5C;\n",
              "      box-shadow: 0px 1px 3px 1px rgba(0, 0, 0, 0.15);\n",
              "      filter: drop-shadow(0px 1px 2px rgba(0, 0, 0, 0.3));\n",
              "      fill: #FFFFFF;\n",
              "    }\n",
              "  </style>\n",
              "\n",
              "    <script>\n",
              "      const buttonEl =\n",
              "        document.querySelector('#df-57040e9e-fcc3-4321-bd41-59f0d79a4911 button.colab-df-convert');\n",
              "      buttonEl.style.display =\n",
              "        google.colab.kernel.accessAllowed ? 'block' : 'none';\n",
              "\n",
              "      async function convertToInteractive(key) {\n",
              "        const element = document.querySelector('#df-57040e9e-fcc3-4321-bd41-59f0d79a4911');\n",
              "        const dataTable =\n",
              "          await google.colab.kernel.invokeFunction('convertToInteractive',\n",
              "                                                    [key], {});\n",
              "        if (!dataTable) return;\n",
              "\n",
              "        const docLinkHtml = 'Like what you see? Visit the ' +\n",
              "          '<a target=\"_blank\" href=https://colab.research.google.com/notebooks/data_table.ipynb>data table notebook</a>'\n",
              "          + ' to learn more about interactive tables.';\n",
              "        element.innerHTML = '';\n",
              "        dataTable['output_type'] = 'display_data';\n",
              "        await google.colab.output.renderOutput(dataTable, element);\n",
              "        const docLink = document.createElement('div');\n",
              "        docLink.innerHTML = docLinkHtml;\n",
              "        element.appendChild(docLink);\n",
              "      }\n",
              "    </script>\n",
              "  </div>\n",
              "\n",
              "\n",
              "<div id=\"df-9f2af454-1774-40a4-9274-b5df955ddb1b\">\n",
              "  <button class=\"colab-df-quickchart\" onclick=\"quickchart('df-9f2af454-1774-40a4-9274-b5df955ddb1b')\"\n",
              "            title=\"Suggest charts\"\n",
              "            style=\"display:none;\">\n",
              "\n",
              "<svg xmlns=\"http://www.w3.org/2000/svg\" height=\"24px\"viewBox=\"0 0 24 24\"\n",
              "     width=\"24px\">\n",
              "    <g>\n",
              "        <path d=\"M19 3H5c-1.1 0-2 .9-2 2v14c0 1.1.9 2 2 2h14c1.1 0 2-.9 2-2V5c0-1.1-.9-2-2-2zM9 17H7v-7h2v7zm4 0h-2V7h2v10zm4 0h-2v-4h2v4z\"/>\n",
              "    </g>\n",
              "</svg>\n",
              "  </button>\n",
              "\n",
              "<style>\n",
              "  .colab-df-quickchart {\n",
              "      --bg-color: #E8F0FE;\n",
              "      --fill-color: #1967D2;\n",
              "      --hover-bg-color: #E2EBFA;\n",
              "      --hover-fill-color: #174EA6;\n",
              "      --disabled-fill-color: #AAA;\n",
              "      --disabled-bg-color: #DDD;\n",
              "  }\n",
              "\n",
              "  [theme=dark] .colab-df-quickchart {\n",
              "      --bg-color: #3B4455;\n",
              "      --fill-color: #D2E3FC;\n",
              "      --hover-bg-color: #434B5C;\n",
              "      --hover-fill-color: #FFFFFF;\n",
              "      --disabled-bg-color: #3B4455;\n",
              "      --disabled-fill-color: #666;\n",
              "  }\n",
              "\n",
              "  .colab-df-quickchart {\n",
              "    background-color: var(--bg-color);\n",
              "    border: none;\n",
              "    border-radius: 50%;\n",
              "    cursor: pointer;\n",
              "    display: none;\n",
              "    fill: var(--fill-color);\n",
              "    height: 32px;\n",
              "    padding: 0;\n",
              "    width: 32px;\n",
              "  }\n",
              "\n",
              "  .colab-df-quickchart:hover {\n",
              "    background-color: var(--hover-bg-color);\n",
              "    box-shadow: 0 1px 2px rgba(60, 64, 67, 0.3), 0 1px 3px 1px rgba(60, 64, 67, 0.15);\n",
              "    fill: var(--button-hover-fill-color);\n",
              "  }\n",
              "\n",
              "  .colab-df-quickchart-complete:disabled,\n",
              "  .colab-df-quickchart-complete:disabled:hover {\n",
              "    background-color: var(--disabled-bg-color);\n",
              "    fill: var(--disabled-fill-color);\n",
              "    box-shadow: none;\n",
              "  }\n",
              "\n",
              "  .colab-df-spinner {\n",
              "    border: 2px solid var(--fill-color);\n",
              "    border-color: transparent;\n",
              "    border-bottom-color: var(--fill-color);\n",
              "    animation:\n",
              "      spin 1s steps(1) infinite;\n",
              "  }\n",
              "\n",
              "  @keyframes spin {\n",
              "    0% {\n",
              "      border-color: transparent;\n",
              "      border-bottom-color: var(--fill-color);\n",
              "      border-left-color: var(--fill-color);\n",
              "    }\n",
              "    20% {\n",
              "      border-color: transparent;\n",
              "      border-left-color: var(--fill-color);\n",
              "      border-top-color: var(--fill-color);\n",
              "    }\n",
              "    30% {\n",
              "      border-color: transparent;\n",
              "      border-left-color: var(--fill-color);\n",
              "      border-top-color: var(--fill-color);\n",
              "      border-right-color: var(--fill-color);\n",
              "    }\n",
              "    40% {\n",
              "      border-color: transparent;\n",
              "      border-right-color: var(--fill-color);\n",
              "      border-top-color: var(--fill-color);\n",
              "    }\n",
              "    60% {\n",
              "      border-color: transparent;\n",
              "      border-right-color: var(--fill-color);\n",
              "    }\n",
              "    80% {\n",
              "      border-color: transparent;\n",
              "      border-right-color: var(--fill-color);\n",
              "      border-bottom-color: var(--fill-color);\n",
              "    }\n",
              "    90% {\n",
              "      border-color: transparent;\n",
              "      border-bottom-color: var(--fill-color);\n",
              "    }\n",
              "  }\n",
              "</style>\n",
              "\n",
              "  <script>\n",
              "    async function quickchart(key) {\n",
              "      const quickchartButtonEl =\n",
              "        document.querySelector('#' + key + ' button');\n",
              "      quickchartButtonEl.disabled = true;  // To prevent multiple clicks.\n",
              "      quickchartButtonEl.classList.add('colab-df-spinner');\n",
              "      try {\n",
              "        const charts = await google.colab.kernel.invokeFunction(\n",
              "            'suggestCharts', [key], {});\n",
              "      } catch (error) {\n",
              "        console.error('Error during call to suggestCharts:', error);\n",
              "      }\n",
              "      quickchartButtonEl.classList.remove('colab-df-spinner');\n",
              "      quickchartButtonEl.classList.add('colab-df-quickchart-complete');\n",
              "    }\n",
              "    (() => {\n",
              "      let quickchartButtonEl =\n",
              "        document.querySelector('#df-9f2af454-1774-40a4-9274-b5df955ddb1b button');\n",
              "      quickchartButtonEl.style.display =\n",
              "        google.colab.kernel.accessAllowed ? 'block' : 'none';\n",
              "    })();\n",
              "  </script>\n",
              "</div>\n",
              "\n",
              "    </div>\n",
              "  </div>\n"
            ],
            "application/vnd.google.colaboratory.intrinsic+json": {
              "type": "dataframe",
              "variable_name": "housing"
            }
          },
          "metadata": {},
          "execution_count": 5
        }
      ]
    },
    {
      "cell_type": "code",
      "source": [
        "housing.shape"
      ],
      "metadata": {
        "id": "Ge4N2njkL5oY",
        "colab": {
          "base_uri": "https://localhost:8080/"
        },
        "outputId": "73644be3-9d6b-49e2-ce15-288a4311f49b"
      },
      "execution_count": null,
      "outputs": [
        {
          "output_type": "execute_result",
          "data": {
            "text/plain": [
              "(78539, 23)"
            ]
          },
          "metadata": {},
          "execution_count": 6
        }
      ]
    },
    {
      "cell_type": "code",
      "source": [
        "# The dataset shape shows the number of instances and features in the dataset\n",
        "num_instances = housing.shape[0]\n",
        "num_features = housing.shape[1]"
      ],
      "metadata": {
        "id": "i6y5AhBE98v-"
      },
      "execution_count": null,
      "outputs": []
    },
    {
      "cell_type": "code",
      "source": [
        "housing.info()"
      ],
      "metadata": {
        "id": "GHB3VZtzL-tQ",
        "colab": {
          "base_uri": "https://localhost:8080/"
        },
        "outputId": "5c40210a-6922-44be-fff6-9cf5d16c3e8c"
      },
      "execution_count": null,
      "outputs": [
        {
          "output_type": "stream",
          "name": "stdout",
          "text": [
            "<class 'pandas.core.frame.DataFrame'>\n",
            "RangeIndex: 78539 entries, 0 to 78538\n",
            "Data columns (total 23 columns):\n",
            " #   Column                   Non-Null Count  Dtype  \n",
            "---  ------                   --------------  -----  \n",
            " 0   county                   78539 non-null  object \n",
            " 1   city                     77980 non-null  object \n",
            " 2   postcode                 49585 non-null  float64\n",
            " 3   property_type            78539 non-null  object \n",
            " 4   property_subtype         76880 non-null  object \n",
            " 5   property_condition_type  78539 non-null  object \n",
            " 6   property_floor           74746 non-null  object \n",
            " 7   building_floor_count     36429 non-null  object \n",
            " 8   view_type                42878 non-null  object \n",
            " 9   orientation              47647 non-null  object \n",
            " 10  garden_access            17200 non-null  object \n",
            " 11  heating_type             67233 non-null  object \n",
            " 12  elevator_type            64388 non-null  object \n",
            " 13  room_cnt                 78539 non-null  float64\n",
            " 14  small_room_cnt           78539 non-null  float64\n",
            " 15  created_at               78539 non-null  object \n",
            " 16  property_area            78539 non-null  float64\n",
            " 17  balcony_area             78539 non-null  float64\n",
            " 18  price_created_at         78539 non-null  float64\n",
            " 19  ad_view_cnt              78539 non-null  float64\n",
            " 20  active_days              78539 non-null  float64\n",
            " 21  nr                       78539 non-null  int64  \n",
            " 22  split                    78539 non-null  object \n",
            "dtypes: float64(8), int64(1), object(14)\n",
            "memory usage: 13.8+ MB\n"
          ]
        }
      ]
    },
    {
      "cell_type": "code",
      "source": [
        "housing.describe()"
      ],
      "metadata": {
        "id": "XSbEbKRSMBfx",
        "colab": {
          "base_uri": "https://localhost:8080/",
          "height": 320
        },
        "outputId": "eaac2664-6c13-486b-9973-e0c3003816cf"
      },
      "execution_count": null,
      "outputs": [
        {
          "output_type": "execute_result",
          "data": {
            "text/plain": [
              "           postcode      room_cnt  small_room_cnt  property_area  \\\n",
              "count  49585.000000  78539.000000    78539.000000   78539.000000   \n",
              "mean    1103.358980      1.467666        0.559875      48.440584   \n",
              "std       50.769326      0.599840        0.737015      12.716653   \n",
              "min     1011.000000      0.000000        0.000000       5.000000   \n",
              "25%     1064.000000      1.000000        0.000000      40.000000   \n",
              "50%     1101.000000      1.000000        0.000000      50.000000   \n",
              "75%     1142.000000      2.000000        1.000000      60.000000   \n",
              "max     1239.000000      7.000000        4.000000      70.000000   \n",
              "\n",
              "       balcony_area  price_created_at   ad_view_cnt   active_days  \\\n",
              "count  78539.000000      78539.000000  78539.000000  78539.000000   \n",
              "mean       1.953182         19.341475    259.599320     44.173684   \n",
              "std        4.677227          8.900296    512.351553     47.821006   \n",
              "min        0.000000          0.200000      0.000000      1.000000   \n",
              "25%        0.000000         13.200000     42.000000     11.000000   \n",
              "50%        0.000000         16.900000    103.000000     28.000000   \n",
              "75%        3.000000         23.900000    263.000000     61.000000   \n",
              "max       97.000000         99.600000  28096.000000    537.000000   \n",
              "\n",
              "                  nr  \n",
              "count   78539.000000  \n",
              "mean   196334.093240  \n",
              "std    113305.083861  \n",
              "min         4.000000  \n",
              "25%     97959.000000  \n",
              "50%    196095.000000  \n",
              "75%    294516.500000  \n",
              "max    394181.000000  "
            ],
            "text/html": [
              "\n",
              "  <div id=\"df-215b9cd9-b308-4e03-a212-dd4dd9184695\" class=\"colab-df-container\">\n",
              "    <div>\n",
              "<style scoped>\n",
              "    .dataframe tbody tr th:only-of-type {\n",
              "        vertical-align: middle;\n",
              "    }\n",
              "\n",
              "    .dataframe tbody tr th {\n",
              "        vertical-align: top;\n",
              "    }\n",
              "\n",
              "    .dataframe thead th {\n",
              "        text-align: right;\n",
              "    }\n",
              "</style>\n",
              "<table border=\"1\" class=\"dataframe\">\n",
              "  <thead>\n",
              "    <tr style=\"text-align: right;\">\n",
              "      <th></th>\n",
              "      <th>postcode</th>\n",
              "      <th>room_cnt</th>\n",
              "      <th>small_room_cnt</th>\n",
              "      <th>property_area</th>\n",
              "      <th>balcony_area</th>\n",
              "      <th>price_created_at</th>\n",
              "      <th>ad_view_cnt</th>\n",
              "      <th>active_days</th>\n",
              "      <th>nr</th>\n",
              "    </tr>\n",
              "  </thead>\n",
              "  <tbody>\n",
              "    <tr>\n",
              "      <th>count</th>\n",
              "      <td>49585.000000</td>\n",
              "      <td>78539.000000</td>\n",
              "      <td>78539.000000</td>\n",
              "      <td>78539.000000</td>\n",
              "      <td>78539.000000</td>\n",
              "      <td>78539.000000</td>\n",
              "      <td>78539.000000</td>\n",
              "      <td>78539.000000</td>\n",
              "      <td>78539.000000</td>\n",
              "    </tr>\n",
              "    <tr>\n",
              "      <th>mean</th>\n",
              "      <td>1103.358980</td>\n",
              "      <td>1.467666</td>\n",
              "      <td>0.559875</td>\n",
              "      <td>48.440584</td>\n",
              "      <td>1.953182</td>\n",
              "      <td>19.341475</td>\n",
              "      <td>259.599320</td>\n",
              "      <td>44.173684</td>\n",
              "      <td>196334.093240</td>\n",
              "    </tr>\n",
              "    <tr>\n",
              "      <th>std</th>\n",
              "      <td>50.769326</td>\n",
              "      <td>0.599840</td>\n",
              "      <td>0.737015</td>\n",
              "      <td>12.716653</td>\n",
              "      <td>4.677227</td>\n",
              "      <td>8.900296</td>\n",
              "      <td>512.351553</td>\n",
              "      <td>47.821006</td>\n",
              "      <td>113305.083861</td>\n",
              "    </tr>\n",
              "    <tr>\n",
              "      <th>min</th>\n",
              "      <td>1011.000000</td>\n",
              "      <td>0.000000</td>\n",
              "      <td>0.000000</td>\n",
              "      <td>5.000000</td>\n",
              "      <td>0.000000</td>\n",
              "      <td>0.200000</td>\n",
              "      <td>0.000000</td>\n",
              "      <td>1.000000</td>\n",
              "      <td>4.000000</td>\n",
              "    </tr>\n",
              "    <tr>\n",
              "      <th>25%</th>\n",
              "      <td>1064.000000</td>\n",
              "      <td>1.000000</td>\n",
              "      <td>0.000000</td>\n",
              "      <td>40.000000</td>\n",
              "      <td>0.000000</td>\n",
              "      <td>13.200000</td>\n",
              "      <td>42.000000</td>\n",
              "      <td>11.000000</td>\n",
              "      <td>97959.000000</td>\n",
              "    </tr>\n",
              "    <tr>\n",
              "      <th>50%</th>\n",
              "      <td>1101.000000</td>\n",
              "      <td>1.000000</td>\n",
              "      <td>0.000000</td>\n",
              "      <td>50.000000</td>\n",
              "      <td>0.000000</td>\n",
              "      <td>16.900000</td>\n",
              "      <td>103.000000</td>\n",
              "      <td>28.000000</td>\n",
              "      <td>196095.000000</td>\n",
              "    </tr>\n",
              "    <tr>\n",
              "      <th>75%</th>\n",
              "      <td>1142.000000</td>\n",
              "      <td>2.000000</td>\n",
              "      <td>1.000000</td>\n",
              "      <td>60.000000</td>\n",
              "      <td>3.000000</td>\n",
              "      <td>23.900000</td>\n",
              "      <td>263.000000</td>\n",
              "      <td>61.000000</td>\n",
              "      <td>294516.500000</td>\n",
              "    </tr>\n",
              "    <tr>\n",
              "      <th>max</th>\n",
              "      <td>1239.000000</td>\n",
              "      <td>7.000000</td>\n",
              "      <td>4.000000</td>\n",
              "      <td>70.000000</td>\n",
              "      <td>97.000000</td>\n",
              "      <td>99.600000</td>\n",
              "      <td>28096.000000</td>\n",
              "      <td>537.000000</td>\n",
              "      <td>394181.000000</td>\n",
              "    </tr>\n",
              "  </tbody>\n",
              "</table>\n",
              "</div>\n",
              "    <div class=\"colab-df-buttons\">\n",
              "\n",
              "  <div class=\"colab-df-container\">\n",
              "    <button class=\"colab-df-convert\" onclick=\"convertToInteractive('df-215b9cd9-b308-4e03-a212-dd4dd9184695')\"\n",
              "            title=\"Convert this dataframe to an interactive table.\"\n",
              "            style=\"display:none;\">\n",
              "\n",
              "  <svg xmlns=\"http://www.w3.org/2000/svg\" height=\"24px\" viewBox=\"0 -960 960 960\">\n",
              "    <path d=\"M120-120v-720h720v720H120Zm60-500h600v-160H180v160Zm220 220h160v-160H400v160Zm0 220h160v-160H400v160ZM180-400h160v-160H180v160Zm440 0h160v-160H620v160ZM180-180h160v-160H180v160Zm440 0h160v-160H620v160Z\"/>\n",
              "  </svg>\n",
              "    </button>\n",
              "\n",
              "  <style>\n",
              "    .colab-df-container {\n",
              "      display:flex;\n",
              "      gap: 12px;\n",
              "    }\n",
              "\n",
              "    .colab-df-convert {\n",
              "      background-color: #E8F0FE;\n",
              "      border: none;\n",
              "      border-radius: 50%;\n",
              "      cursor: pointer;\n",
              "      display: none;\n",
              "      fill: #1967D2;\n",
              "      height: 32px;\n",
              "      padding: 0 0 0 0;\n",
              "      width: 32px;\n",
              "    }\n",
              "\n",
              "    .colab-df-convert:hover {\n",
              "      background-color: #E2EBFA;\n",
              "      box-shadow: 0px 1px 2px rgba(60, 64, 67, 0.3), 0px 1px 3px 1px rgba(60, 64, 67, 0.15);\n",
              "      fill: #174EA6;\n",
              "    }\n",
              "\n",
              "    .colab-df-buttons div {\n",
              "      margin-bottom: 4px;\n",
              "    }\n",
              "\n",
              "    [theme=dark] .colab-df-convert {\n",
              "      background-color: #3B4455;\n",
              "      fill: #D2E3FC;\n",
              "    }\n",
              "\n",
              "    [theme=dark] .colab-df-convert:hover {\n",
              "      background-color: #434B5C;\n",
              "      box-shadow: 0px 1px 3px 1px rgba(0, 0, 0, 0.15);\n",
              "      filter: drop-shadow(0px 1px 2px rgba(0, 0, 0, 0.3));\n",
              "      fill: #FFFFFF;\n",
              "    }\n",
              "  </style>\n",
              "\n",
              "    <script>\n",
              "      const buttonEl =\n",
              "        document.querySelector('#df-215b9cd9-b308-4e03-a212-dd4dd9184695 button.colab-df-convert');\n",
              "      buttonEl.style.display =\n",
              "        google.colab.kernel.accessAllowed ? 'block' : 'none';\n",
              "\n",
              "      async function convertToInteractive(key) {\n",
              "        const element = document.querySelector('#df-215b9cd9-b308-4e03-a212-dd4dd9184695');\n",
              "        const dataTable =\n",
              "          await google.colab.kernel.invokeFunction('convertToInteractive',\n",
              "                                                    [key], {});\n",
              "        if (!dataTable) return;\n",
              "\n",
              "        const docLinkHtml = 'Like what you see? Visit the ' +\n",
              "          '<a target=\"_blank\" href=https://colab.research.google.com/notebooks/data_table.ipynb>data table notebook</a>'\n",
              "          + ' to learn more about interactive tables.';\n",
              "        element.innerHTML = '';\n",
              "        dataTable['output_type'] = 'display_data';\n",
              "        await google.colab.output.renderOutput(dataTable, element);\n",
              "        const docLink = document.createElement('div');\n",
              "        docLink.innerHTML = docLinkHtml;\n",
              "        element.appendChild(docLink);\n",
              "      }\n",
              "    </script>\n",
              "  </div>\n",
              "\n",
              "\n",
              "<div id=\"df-83b0d68e-2c6f-41ee-9a28-c452e93cb255\">\n",
              "  <button class=\"colab-df-quickchart\" onclick=\"quickchart('df-83b0d68e-2c6f-41ee-9a28-c452e93cb255')\"\n",
              "            title=\"Suggest charts\"\n",
              "            style=\"display:none;\">\n",
              "\n",
              "<svg xmlns=\"http://www.w3.org/2000/svg\" height=\"24px\"viewBox=\"0 0 24 24\"\n",
              "     width=\"24px\">\n",
              "    <g>\n",
              "        <path d=\"M19 3H5c-1.1 0-2 .9-2 2v14c0 1.1.9 2 2 2h14c1.1 0 2-.9 2-2V5c0-1.1-.9-2-2-2zM9 17H7v-7h2v7zm4 0h-2V7h2v10zm4 0h-2v-4h2v4z\"/>\n",
              "    </g>\n",
              "</svg>\n",
              "  </button>\n",
              "\n",
              "<style>\n",
              "  .colab-df-quickchart {\n",
              "      --bg-color: #E8F0FE;\n",
              "      --fill-color: #1967D2;\n",
              "      --hover-bg-color: #E2EBFA;\n",
              "      --hover-fill-color: #174EA6;\n",
              "      --disabled-fill-color: #AAA;\n",
              "      --disabled-bg-color: #DDD;\n",
              "  }\n",
              "\n",
              "  [theme=dark] .colab-df-quickchart {\n",
              "      --bg-color: #3B4455;\n",
              "      --fill-color: #D2E3FC;\n",
              "      --hover-bg-color: #434B5C;\n",
              "      --hover-fill-color: #FFFFFF;\n",
              "      --disabled-bg-color: #3B4455;\n",
              "      --disabled-fill-color: #666;\n",
              "  }\n",
              "\n",
              "  .colab-df-quickchart {\n",
              "    background-color: var(--bg-color);\n",
              "    border: none;\n",
              "    border-radius: 50%;\n",
              "    cursor: pointer;\n",
              "    display: none;\n",
              "    fill: var(--fill-color);\n",
              "    height: 32px;\n",
              "    padding: 0;\n",
              "    width: 32px;\n",
              "  }\n",
              "\n",
              "  .colab-df-quickchart:hover {\n",
              "    background-color: var(--hover-bg-color);\n",
              "    box-shadow: 0 1px 2px rgba(60, 64, 67, 0.3), 0 1px 3px 1px rgba(60, 64, 67, 0.15);\n",
              "    fill: var(--button-hover-fill-color);\n",
              "  }\n",
              "\n",
              "  .colab-df-quickchart-complete:disabled,\n",
              "  .colab-df-quickchart-complete:disabled:hover {\n",
              "    background-color: var(--disabled-bg-color);\n",
              "    fill: var(--disabled-fill-color);\n",
              "    box-shadow: none;\n",
              "  }\n",
              "\n",
              "  .colab-df-spinner {\n",
              "    border: 2px solid var(--fill-color);\n",
              "    border-color: transparent;\n",
              "    border-bottom-color: var(--fill-color);\n",
              "    animation:\n",
              "      spin 1s steps(1) infinite;\n",
              "  }\n",
              "\n",
              "  @keyframes spin {\n",
              "    0% {\n",
              "      border-color: transparent;\n",
              "      border-bottom-color: var(--fill-color);\n",
              "      border-left-color: var(--fill-color);\n",
              "    }\n",
              "    20% {\n",
              "      border-color: transparent;\n",
              "      border-left-color: var(--fill-color);\n",
              "      border-top-color: var(--fill-color);\n",
              "    }\n",
              "    30% {\n",
              "      border-color: transparent;\n",
              "      border-left-color: var(--fill-color);\n",
              "      border-top-color: var(--fill-color);\n",
              "      border-right-color: var(--fill-color);\n",
              "    }\n",
              "    40% {\n",
              "      border-color: transparent;\n",
              "      border-right-color: var(--fill-color);\n",
              "      border-top-color: var(--fill-color);\n",
              "    }\n",
              "    60% {\n",
              "      border-color: transparent;\n",
              "      border-right-color: var(--fill-color);\n",
              "    }\n",
              "    80% {\n",
              "      border-color: transparent;\n",
              "      border-right-color: var(--fill-color);\n",
              "      border-bottom-color: var(--fill-color);\n",
              "    }\n",
              "    90% {\n",
              "      border-color: transparent;\n",
              "      border-bottom-color: var(--fill-color);\n",
              "    }\n",
              "  }\n",
              "</style>\n",
              "\n",
              "  <script>\n",
              "    async function quickchart(key) {\n",
              "      const quickchartButtonEl =\n",
              "        document.querySelector('#' + key + ' button');\n",
              "      quickchartButtonEl.disabled = true;  // To prevent multiple clicks.\n",
              "      quickchartButtonEl.classList.add('colab-df-spinner');\n",
              "      try {\n",
              "        const charts = await google.colab.kernel.invokeFunction(\n",
              "            'suggestCharts', [key], {});\n",
              "      } catch (error) {\n",
              "        console.error('Error during call to suggestCharts:', error);\n",
              "      }\n",
              "      quickchartButtonEl.classList.remove('colab-df-spinner');\n",
              "      quickchartButtonEl.classList.add('colab-df-quickchart-complete');\n",
              "    }\n",
              "    (() => {\n",
              "      let quickchartButtonEl =\n",
              "        document.querySelector('#df-83b0d68e-2c6f-41ee-9a28-c452e93cb255 button');\n",
              "      quickchartButtonEl.style.display =\n",
              "        google.colab.kernel.accessAllowed ? 'block' : 'none';\n",
              "    })();\n",
              "  </script>\n",
              "</div>\n",
              "\n",
              "    </div>\n",
              "  </div>\n"
            ],
            "application/vnd.google.colaboratory.intrinsic+json": {
              "type": "dataframe",
              "summary": "{\n  \"name\": \"housing\",\n  \"rows\": 8,\n  \"fields\": [\n    {\n      \"column\": \"postcode\",\n      \"properties\": {\n        \"dtype\": \"number\",\n        \"std\": 17196.10067421727,\n        \"min\": 50.76932624153372,\n        \"max\": 49585.0,\n        \"num_unique_values\": 8,\n        \"samples\": [\n          1103.3589795300998,\n          1101.0,\n          49585.0\n        ],\n        \"semantic_type\": \"\",\n        \"description\": \"\"\n      }\n    },\n    {\n      \"column\": \"room_cnt\",\n      \"properties\": {\n        \"dtype\": \"number\",\n        \"std\": 27767.06982027521,\n        \"min\": 0.0,\n        \"max\": 78539.0,\n        \"num_unique_values\": 7,\n        \"samples\": [\n          78539.0,\n          1.46766574568049,\n          2.0\n        ],\n        \"semantic_type\": \"\",\n        \"description\": \"\"\n      }\n    },\n    {\n      \"column\": \"small_room_cnt\",\n      \"properties\": {\n        \"dtype\": \"number\",\n        \"std\": 27767.4117341901,\n        \"min\": 0.0,\n        \"max\": 78539.0,\n        \"num_unique_values\": 6,\n        \"samples\": [\n          78539.0,\n          0.5598747119265588,\n          4.0\n        ],\n        \"semantic_type\": \"\",\n        \"description\": \"\"\n      }\n    },\n    {\n      \"column\": \"property_area\",\n      \"properties\": {\n        \"dtype\": \"number\",\n        \"std\": 27753.285461978205,\n        \"min\": 5.0,\n        \"max\": 78539.0,\n        \"num_unique_values\": 8,\n        \"samples\": [\n          48.44058365907384,\n          50.0,\n          78539.0\n        ],\n        \"semantic_type\": \"\",\n        \"description\": \"\"\n      }\n    },\n    {\n      \"column\": \"balcony_area\",\n      \"properties\": {\n        \"dtype\": \"number\",\n        \"std\": 27762.364213026478,\n        \"min\": 0.0,\n        \"max\": 78539.0,\n        \"num_unique_values\": 6,\n        \"samples\": [\n          78539.0,\n          1.9531824953207961,\n          97.0\n        ],\n        \"semantic_type\": \"\",\n        \"description\": \"\"\n      }\n    },\n    {\n      \"column\": \"price_created_at\",\n      \"properties\": {\n        \"dtype\": \"number\",\n        \"std\": 27758.552410246535,\n        \"min\": 0.2,\n        \"max\": 78539.0,\n        \"num_unique_values\": 8,\n        \"samples\": [\n          19.341474936019047,\n          16.9,\n          78539.0\n        ],\n        \"semantic_type\": \"\",\n        \"description\": \"\"\n      }\n    },\n    {\n      \"column\": \"ad_view_cnt\",\n      \"properties\": {\n        \"dtype\": \"number\",\n        \"std\": 28043.749547944448,\n        \"min\": 0.0,\n        \"max\": 78539.0,\n        \"num_unique_values\": 8,\n        \"samples\": [\n          259.5993200830161,\n          103.0,\n          78539.0\n        ],\n        \"semantic_type\": \"\",\n        \"description\": \"\"\n      }\n    },\n    {\n      \"column\": \"active_days\",\n      \"properties\": {\n        \"dtype\": \"number\",\n        \"std\": 27731.428960314133,\n        \"min\": 1.0,\n        \"max\": 78539.0,\n        \"num_unique_values\": 8,\n        \"samples\": [\n          44.17368441156623,\n          28.0,\n          78539.0\n        ],\n        \"semantic_type\": \"\",\n        \"description\": \"\"\n      }\n    },\n    {\n      \"column\": \"nr\",\n      \"properties\": {\n        \"dtype\": \"number\",\n        \"std\": 126935.83508279153,\n        \"min\": 4.0,\n        \"max\": 394181.0,\n        \"num_unique_values\": 8,\n        \"samples\": [\n          196334.093240301,\n          196095.0,\n          78539.0\n        ],\n        \"semantic_type\": \"\",\n        \"description\": \"\"\n      }\n    }\n  ]\n}"
            }
          },
          "metadata": {},
          "execution_count": 9
        }
      ]
    },
    {
      "cell_type": "markdown",
      "source": [
        "## Features and ground truth labels"
      ],
      "metadata": {
        "id": "8jHSic1P-9_1"
      }
    },
    {
      "cell_type": "code",
      "source": [
        "# One of the columns contains the prices. In this task, we need to predict the prices based on some information that we have; thus, this column is the ground truth label.\n",
        "# 'price_created_at' column has the ground truth label that we are going to use in training and testing later.\n",
        "gt_feature = 'price_created_at'"
      ],
      "metadata": {
        "id": "XXok0q5X_DeT"
      },
      "execution_count": null,
      "outputs": []
    },
    {
      "cell_type": "markdown",
      "source": [
        "# Data preperation"
      ],
      "metadata": {
        "id": "-cP3kjc1MN5N"
      }
    },
    {
      "cell_type": "code",
      "source": [
        "# As we learned earlier, prepare the data for the next steps (e.g. train and test).\n",
        "# You might use all the available features or part of them. Please justify your choices.\n",
        "# Attention!!! Do not frop any N/A value."
      ],
      "metadata": {
        "id": "LPIWK-zjMN5U"
      },
      "execution_count": null,
      "outputs": []
    },
    {
      "cell_type": "code",
      "source": [
        "selected_features = ['room_cnt','small_room_cnt','property_area','balcony_area']\n",
        "target = 'price_created_at'\n",
        "all_small_columns = selected_features + [target]\n",
        "print(all_small_columns)\n",
        "\n",
        "housing_clean_small = housing[all_small_columns]\n",
        "housing_clean_small.shape"
      ],
      "metadata": {
        "colab": {
          "base_uri": "https://localhost:8080/"
        },
        "id": "L70LGr1LXfx8",
        "outputId": "91845330-dde1-4302-d391-f8dab0e39760"
      },
      "execution_count": null,
      "outputs": [
        {
          "output_type": "stream",
          "name": "stdout",
          "text": [
            "['room_cnt', 'small_room_cnt', 'property_area', 'balcony_area', 'price_created_at']\n"
          ]
        },
        {
          "output_type": "execute_result",
          "data": {
            "text/plain": [
              "(78539, 5)"
            ]
          },
          "metadata": {},
          "execution_count": 12
        }
      ]
    },
    {
      "cell_type": "markdown",
      "source": [
        "\n",
        "\n",
        "---\n",
        "\n",
        "\n",
        "#### Justification:\n",
        "I decided to keep the selected features becauste of the same number of instances and the data type.\n",
        "\n",
        "\n",
        "\n",
        "---\n",
        "\n"
      ],
      "metadata": {
        "id": "orX0LewslhCo"
      }
    },
    {
      "cell_type": "markdown",
      "source": [
        "## Holding out a test set for performance evaluation"
      ],
      "metadata": {
        "id": "8cuT5ysJMN5U"
      }
    },
    {
      "cell_type": "code",
      "source": [
        "# 1- We need to decide how much of the data is used for testing.\n",
        "#    In this experiment the data is labeled beforehand, we have 30% of the data for testing purposes.\n",
        "# 2- How many instances do we have for training and testing?\n",
        "\n",
        "train_set = housing[housing['split']=='train']\n",
        "test_set = housing[housing['split']=='test']\n",
        "\n",
        "train_set.shape, test_set.shape"
      ],
      "metadata": {
        "id": "JV8bX6LwMN5U",
        "colab": {
          "base_uri": "https://localhost:8080/"
        },
        "outputId": "8b268d05-58ef-4300-effd-018e5724427b"
      },
      "execution_count": null,
      "outputs": [
        {
          "output_type": "execute_result",
          "data": {
            "text/plain": [
              "((54977, 23), (23562, 23))"
            ]
          },
          "metadata": {},
          "execution_count": 13
        }
      ]
    },
    {
      "cell_type": "code",
      "source": [
        "# The following is just to assert that the data is complete and none of th einstances was dropped\n",
        "test_perc = 0.3\n",
        "train_perc = 1 - test_perc\n",
        "\n",
        "assert (len(train_set) + len(test_set)) == num_instances\n",
        "assert (len(train_set)) == int(train_perc*num_instances)\n",
        "assert (len(test_set)) == (num_instances - len(train_set))"
      ],
      "metadata": {
        "id": "btwvyP_ILMaE"
      },
      "execution_count": null,
      "outputs": []
    },
    {
      "cell_type": "markdown",
      "source": [
        "# Model selection"
      ],
      "metadata": {
        "id": "NvQBZNegCw7Y"
      }
    },
    {
      "cell_type": "code",
      "source": [
        "# After the data preperation/preprocessing step, the list of selected features (as strings) should be saved into a list in the form:\n",
        "# features = [feature1, feature2, ...]\n",
        "\n",
        "features = [selected_features[0], selected_features[1], selected_features[2], selected_features[3]]\n",
        "features"
      ],
      "metadata": {
        "id": "ZQvcLguWEQDs",
        "colab": {
          "base_uri": "https://localhost:8080/"
        },
        "outputId": "423e164d-70cb-41bb-a461-e2449f4c2c19"
      },
      "execution_count": null,
      "outputs": [
        {
          "output_type": "execute_result",
          "data": {
            "text/plain": [
              "['room_cnt', 'small_room_cnt', 'property_area', 'balcony_area']"
            ]
          },
          "metadata": {},
          "execution_count": 15
        }
      ]
    },
    {
      "cell_type": "code",
      "source": [
        "# We need to create features and ground truth sets for both train and test splits that we have. Use 'features' and 'gt_feature'.\n",
        "\n",
        "X_train = train_set[features]\n",
        "y_train = train_set[gt_feature]\n",
        "X_test = test_set[features]\n",
        "y_test = test_set[gt_feature]\n",
        "\n",
        "X_train.shape , y_train.shape, X_test.shape, y_test.shape"
      ],
      "metadata": {
        "id": "RaJZt1NOFVNM",
        "colab": {
          "base_uri": "https://localhost:8080/"
        },
        "outputId": "af52b2ac-edd7-44fe-a048-61d31ecb872b"
      },
      "execution_count": null,
      "outputs": [
        {
          "output_type": "execute_result",
          "data": {
            "text/plain": [
              "((54977, 4), (54977,), (23562, 4), (23562,))"
            ]
          },
          "metadata": {},
          "execution_count": 16
        }
      ]
    },
    {
      "cell_type": "code",
      "source": [
        "# For prediction, you should use the following function. As you can see, it is incomplete, please fill the gaps.\n",
        "# The selected model has to learn the features in the data before giving an educated prediction. Why?\n",
        "# We first fit the model using the train data, then use it to predict labels (prices) for the test instances. Why?\n",
        "\n",
        "def model_predict(model, X_train, y_train, X_test):\n",
        "  # fit the model\n",
        "  model.fit(X_train,y_train)\n",
        "  # make predictions\n",
        "  pred = model.predict(X_test)\n",
        "  return model, pred"
      ],
      "metadata": {
        "id": "CO7Zi-7qC5up"
      },
      "execution_count": null,
      "outputs": []
    },
    {
      "cell_type": "code",
      "source": [
        "# Using the selected models, You can make the predictions using 'model_predict' function. Please save the returned values so we can check their performance."
      ],
      "metadata": {
        "id": "VbGzNzUoFRSB"
      },
      "execution_count": null,
      "outputs": []
    },
    {
      "cell_type": "markdown",
      "source": [
        "### Model 1: Linear Regression"
      ],
      "metadata": {
        "id": "JW9TaD5DmvhL"
      }
    },
    {
      "cell_type": "code",
      "source": [
        "model_1 = LinearRegression()\n",
        "model_1, pred_1 = model_predict(model_1, X_train, y_train, X_test)"
      ],
      "metadata": {
        "id": "vTJ8ZOYnZeb3"
      },
      "execution_count": null,
      "outputs": []
    },
    {
      "cell_type": "code",
      "source": [
        "pred_1.shape"
      ],
      "metadata": {
        "colab": {
          "base_uri": "https://localhost:8080/"
        },
        "id": "mhJvC52yItAj",
        "outputId": "f223be95-c499-4a4a-975c-e6ae008fdf51"
      },
      "execution_count": null,
      "outputs": [
        {
          "output_type": "execute_result",
          "data": {
            "text/plain": [
              "(23562,)"
            ]
          },
          "metadata": {},
          "execution_count": 20
        }
      ]
    },
    {
      "cell_type": "markdown",
      "source": [
        "### Model 2: Random Forest Regressor"
      ],
      "metadata": {
        "id": "nI5M3E4aiADU"
      }
    },
    {
      "cell_type": "code",
      "source": [
        "model_2 = RandomForestRegressor(n_estimators=100, max_depth=5)\n",
        "model_2, pred_2 = model_predict(model_2, X_train, y_train, X_test)"
      ],
      "metadata": {
        "id": "NQZEGsPDhcy_"
      },
      "execution_count": null,
      "outputs": []
    },
    {
      "cell_type": "markdown",
      "source": [
        "### Model 3: Gradient Boosting Regressor"
      ],
      "metadata": {
        "id": "8zxXSRBOiAXI"
      }
    },
    {
      "cell_type": "code",
      "source": [
        "model_3 = GradientBoostingRegressor(n_estimators=100, max_depth=5)\n",
        "model_3, pred_3 = model_predict(model_3, X_train, y_train, X_test)"
      ],
      "metadata": {
        "id": "BCKJKh78h3Ld"
      },
      "execution_count": null,
      "outputs": []
    },
    {
      "cell_type": "markdown",
      "source": [
        "# Evaluation"
      ],
      "metadata": {
        "id": "ukbVGjUvCyoG"
      }
    },
    {
      "cell_type": "code",
      "source": [
        "from sklearn.metrics import mean_absolute_error, mean_squared_error"
      ],
      "metadata": {
        "id": "1PEf4KzCIWnK"
      },
      "execution_count": null,
      "outputs": []
    },
    {
      "cell_type": "code",
      "source": [
        "# For evaluation we use Mean Absolute Error (MAE), Mean Absolute Percentage Error (MAPE), and Root Mean Square Error (RMSE).\n",
        "# Please complete the following function:\n",
        "\n",
        "def model_evaluate(pred, target):\n",
        "    mae = mean_absolute_error(target, pred)\n",
        "    mape = np.mean(np.abs((target - pred) / target)) * 100\n",
        "    rmse = np.sqrt(mean_squared_error(target, pred))\n",
        "    return mae, mape, rmse"
      ],
      "metadata": {
        "id": "qkwNqkPoC0h6"
      },
      "execution_count": null,
      "outputs": []
    },
    {
      "cell_type": "code",
      "source": [
        "# Check and compare the performance for all the models. Do you find any interesting observtions(s)? What are your conclusion(s)?"
      ],
      "metadata": {
        "id": "rAJ5I2RvC0ff"
      },
      "execution_count": null,
      "outputs": []
    },
    {
      "cell_type": "markdown",
      "source": [
        "### Model 1"
      ],
      "metadata": {
        "id": "cABgkPRkiCzX"
      }
    },
    {
      "cell_type": "code",
      "source": [
        "mae, mape, rmse = model_evaluate(pred_1, y_test)\n",
        "print(mae, mape, rmse)"
      ],
      "metadata": {
        "id": "4PA__ov2C0DU",
        "colab": {
          "base_uri": "https://localhost:8080/"
        },
        "outputId": "ef4461ae-6c0d-473b-a061-5c662337afc7"
      },
      "execution_count": null,
      "outputs": [
        {
          "output_type": "stream",
          "name": "stdout",
          "text": [
            "5.776043449065582 32.46755572098473 7.890516253261829\n"
          ]
        }
      ]
    },
    {
      "cell_type": "markdown",
      "source": [
        "### Model 2"
      ],
      "metadata": {
        "id": "uYfC8N3WiD-V"
      }
    },
    {
      "cell_type": "code",
      "source": [
        "mae, mape, rmse = model_evaluate(pred_2, y_test)\n",
        "print(mae, mape, rmse)"
      ],
      "metadata": {
        "colab": {
          "base_uri": "https://localhost:8080/"
        },
        "id": "wg7pbqwFiGxD",
        "outputId": "f8363502-dc6e-43b4-8de6-505f8152a877"
      },
      "execution_count": null,
      "outputs": [
        {
          "output_type": "stream",
          "name": "stdout",
          "text": [
            "5.5576627172914685 31.382341120500374 7.689748003287972\n"
          ]
        }
      ]
    },
    {
      "cell_type": "markdown",
      "source": [
        "### Model 3\n"
      ],
      "metadata": {
        "id": "VJVXBGGZiDic"
      }
    },
    {
      "cell_type": "code",
      "source": [
        "mae, mape, rmse = model_evaluate(pred_3, y_test)\n",
        "print(mae, mape, rmse)"
      ],
      "metadata": {
        "colab": {
          "base_uri": "https://localhost:8080/"
        },
        "id": "O2iZ6ku3iIzv",
        "outputId": "2f0fd9e6-51b0-4b9f-803b-49e9cf2ccc58"
      },
      "execution_count": null,
      "outputs": [
        {
          "output_type": "stream",
          "name": "stdout",
          "text": [
            "5.438976376819999 30.777499304414548 7.605688211412157\n"
          ]
        }
      ]
    },
    {
      "cell_type": "markdown",
      "source": [
        "---\n",
        "##Conclusion:\n",
        "All the prediction models shows a MAE between 5 to 6, the model 3 (Gradient Boosting Regressor) shows a best MAPE of 30.77% of error but not a big difference with the other models. I can conclude that the three models used have similar performance in the prediction of the housing price."
      ],
      "metadata": {
        "id": "83FZ79qdqq-k"
      }
    },
    {
      "cell_type": "markdown",
      "source": [
        "## Extra models"
      ],
      "metadata": {
        "id": "VhfvBDKLuoCZ"
      }
    },
    {
      "cell_type": "markdown",
      "source": [
        "### XGBoost"
      ],
      "metadata": {
        "id": "_mEz4aEOu0ct"
      }
    },
    {
      "cell_type": "code",
      "source": [
        "from xgboost import XGBRegressor\n",
        "\n",
        "model_4 = XGBRegressor(n_estimators=100, max_depth=5)\n",
        "model_4, pred_4 = model_predict(model_4, X_train, y_train, X_test)\n",
        "mae, mape, rmse = model_evaluate(pred_4, y_test)\n",
        "print(mae, mape, rmse)"
      ],
      "metadata": {
        "colab": {
          "base_uri": "https://localhost:8080/"
        },
        "id": "pZ5dtHuNtk9e",
        "outputId": "85d4eb36-ad6f-4196-fe9f-47bc3e7e5548"
      },
      "execution_count": null,
      "outputs": [
        {
          "output_type": "stream",
          "name": "stdout",
          "text": [
            "5.3899010089690185 30.43370834154423 7.56725508446498\n"
          ]
        }
      ]
    },
    {
      "cell_type": "markdown",
      "source": [
        "### CatBoost"
      ],
      "metadata": {
        "id": "I0apc5_fu4h0"
      }
    },
    {
      "cell_type": "code",
      "source": [
        "!pip install catboost --q\n",
        "from catboost import CatBoostRegressor\n",
        "\n",
        "model_5 = CatBoostRegressor(n_estimators=100, max_depth=5)\n",
        "model_5, pred_5 = model_predict(model_5, X_train, y_train, X_test)\n",
        "mae, mape, rmse = model_evaluate(pred_5, y_test)\n",
        "print(mae, mape, rmse)"
      ],
      "metadata": {
        "colab": {
          "base_uri": "https://localhost:8080/"
        },
        "id": "4ejtSzhPt1wo",
        "outputId": "73bc1711-a050-471f-aa97-667ca3322b43"
      },
      "execution_count": null,
      "outputs": [
        {
          "output_type": "stream",
          "name": "stdout",
          "text": [
            "Learning rate set to 0.5\n",
            "0:\tlearn: 7.9609445\ttotal: 31.4ms\tremaining: 3.11s\n",
            "1:\tlearn: 7.6962551\ttotal: 54.8ms\tremaining: 2.69s\n",
            "2:\tlearn: 7.5775298\ttotal: 69ms\tremaining: 2.23s\n",
            "3:\tlearn: 7.5220184\ttotal: 82ms\tremaining: 1.97s\n",
            "4:\tlearn: 7.5038992\ttotal: 124ms\tremaining: 2.36s\n",
            "5:\tlearn: 7.4877730\ttotal: 160ms\tremaining: 2.51s\n",
            "6:\tlearn: 7.4812169\ttotal: 191ms\tremaining: 2.54s\n",
            "7:\tlearn: 7.4641103\ttotal: 226ms\tremaining: 2.6s\n",
            "8:\tlearn: 7.4580627\ttotal: 249ms\tremaining: 2.52s\n",
            "9:\tlearn: 7.4470572\ttotal: 276ms\tremaining: 2.48s\n",
            "10:\tlearn: 7.4349304\ttotal: 303ms\tremaining: 2.45s\n",
            "11:\tlearn: 7.4293931\ttotal: 333ms\tremaining: 2.44s\n",
            "12:\tlearn: 7.4258589\ttotal: 366ms\tremaining: 2.45s\n",
            "13:\tlearn: 7.4219559\ttotal: 393ms\tremaining: 2.42s\n",
            "14:\tlearn: 7.4189564\ttotal: 418ms\tremaining: 2.37s\n",
            "15:\tlearn: 7.4181914\ttotal: 445ms\tremaining: 2.34s\n",
            "16:\tlearn: 7.4149360\ttotal: 486ms\tremaining: 2.37s\n",
            "17:\tlearn: 7.4125115\ttotal: 516ms\tremaining: 2.35s\n",
            "18:\tlearn: 7.4064276\ttotal: 539ms\tremaining: 2.3s\n",
            "19:\tlearn: 7.4036649\ttotal: 563ms\tremaining: 2.25s\n",
            "20:\tlearn: 7.4014680\ttotal: 598ms\tremaining: 2.25s\n",
            "21:\tlearn: 7.3977995\ttotal: 620ms\tremaining: 2.2s\n",
            "22:\tlearn: 7.3974002\ttotal: 646ms\tremaining: 2.16s\n",
            "23:\tlearn: 7.3960145\ttotal: 676ms\tremaining: 2.14s\n",
            "24:\tlearn: 7.3957346\ttotal: 698ms\tremaining: 2.09s\n",
            "25:\tlearn: 7.3864957\ttotal: 724ms\tremaining: 2.06s\n",
            "26:\tlearn: 7.3848749\ttotal: 736ms\tremaining: 1.99s\n",
            "27:\tlearn: 7.3824731\ttotal: 760ms\tremaining: 1.96s\n",
            "28:\tlearn: 7.3816166\ttotal: 785ms\tremaining: 1.92s\n",
            "29:\tlearn: 7.3801943\ttotal: 813ms\tremaining: 1.9s\n",
            "30:\tlearn: 7.3778187\ttotal: 834ms\tremaining: 1.86s\n",
            "31:\tlearn: 7.3754876\ttotal: 849ms\tremaining: 1.8s\n",
            "32:\tlearn: 7.3750074\ttotal: 861ms\tremaining: 1.75s\n",
            "33:\tlearn: 7.3714256\ttotal: 876ms\tremaining: 1.7s\n",
            "34:\tlearn: 7.3703244\ttotal: 888ms\tremaining: 1.65s\n",
            "35:\tlearn: 7.3698043\ttotal: 900ms\tremaining: 1.6s\n",
            "36:\tlearn: 7.3652002\ttotal: 916ms\tremaining: 1.56s\n",
            "37:\tlearn: 7.3646620\ttotal: 930ms\tremaining: 1.52s\n",
            "38:\tlearn: 7.3626738\ttotal: 950ms\tremaining: 1.49s\n",
            "39:\tlearn: 7.3610883\ttotal: 990ms\tremaining: 1.48s\n",
            "40:\tlearn: 7.3609119\ttotal: 1.01s\tremaining: 1.46s\n",
            "41:\tlearn: 7.3596375\ttotal: 1.03s\tremaining: 1.42s\n",
            "42:\tlearn: 7.3592325\ttotal: 1.05s\tremaining: 1.39s\n",
            "43:\tlearn: 7.3566259\ttotal: 1.07s\tremaining: 1.37s\n",
            "44:\tlearn: 7.3551500\ttotal: 1.1s\tremaining: 1.34s\n",
            "45:\tlearn: 7.3551196\ttotal: 1.11s\tremaining: 1.31s\n",
            "46:\tlearn: 7.3517636\ttotal: 1.13s\tremaining: 1.28s\n",
            "47:\tlearn: 7.3512794\ttotal: 1.15s\tremaining: 1.24s\n",
            "48:\tlearn: 7.3505495\ttotal: 1.16s\tremaining: 1.21s\n",
            "49:\tlearn: 7.3489328\ttotal: 1.17s\tremaining: 1.17s\n",
            "50:\tlearn: 7.3485085\ttotal: 1.19s\tremaining: 1.14s\n",
            "51:\tlearn: 7.3470613\ttotal: 1.2s\tremaining: 1.1s\n",
            "52:\tlearn: 7.3451013\ttotal: 1.21s\tremaining: 1.08s\n",
            "53:\tlearn: 7.3417081\ttotal: 1.23s\tremaining: 1.05s\n",
            "54:\tlearn: 7.3402285\ttotal: 1.25s\tremaining: 1.02s\n",
            "55:\tlearn: 7.3376822\ttotal: 1.26s\tremaining: 991ms\n",
            "56:\tlearn: 7.3372126\ttotal: 1.27s\tremaining: 959ms\n",
            "57:\tlearn: 7.3370882\ttotal: 1.28s\tremaining: 925ms\n",
            "58:\tlearn: 7.3367514\ttotal: 1.29s\tremaining: 895ms\n",
            "59:\tlearn: 7.3365208\ttotal: 1.3s\tremaining: 866ms\n",
            "60:\tlearn: 7.3313589\ttotal: 1.31s\tremaining: 840ms\n",
            "61:\tlearn: 7.3303438\ttotal: 1.33s\tremaining: 814ms\n",
            "62:\tlearn: 7.3290135\ttotal: 1.34s\tremaining: 786ms\n",
            "63:\tlearn: 7.3273693\ttotal: 1.35s\tremaining: 761ms\n",
            "64:\tlearn: 7.3253962\ttotal: 1.38s\tremaining: 743ms\n",
            "65:\tlearn: 7.3244831\ttotal: 1.41s\tremaining: 724ms\n",
            "66:\tlearn: 7.3238197\ttotal: 1.42s\tremaining: 701ms\n",
            "67:\tlearn: 7.3226086\ttotal: 1.43s\tremaining: 675ms\n",
            "68:\tlearn: 7.3218303\ttotal: 1.45s\tremaining: 652ms\n",
            "69:\tlearn: 7.3205493\ttotal: 1.46s\tremaining: 626ms\n",
            "70:\tlearn: 7.3198630\ttotal: 1.47s\tremaining: 599ms\n",
            "71:\tlearn: 7.3196774\ttotal: 1.47s\tremaining: 573ms\n",
            "72:\tlearn: 7.3195866\ttotal: 1.48s\tremaining: 547ms\n",
            "73:\tlearn: 7.3184126\ttotal: 1.49s\tremaining: 522ms\n",
            "74:\tlearn: 7.3182235\ttotal: 1.49s\tremaining: 498ms\n",
            "75:\tlearn: 7.3179809\ttotal: 1.5s\tremaining: 474ms\n",
            "76:\tlearn: 7.3163319\ttotal: 1.51s\tremaining: 450ms\n",
            "77:\tlearn: 7.3145555\ttotal: 1.51s\tremaining: 427ms\n",
            "78:\tlearn: 7.3122672\ttotal: 1.52s\tremaining: 405ms\n",
            "79:\tlearn: 7.3109107\ttotal: 1.53s\tremaining: 383ms\n",
            "80:\tlearn: 7.3094846\ttotal: 1.54s\tremaining: 361ms\n",
            "81:\tlearn: 7.3082091\ttotal: 1.54s\tremaining: 339ms\n",
            "82:\tlearn: 7.3075034\ttotal: 1.55s\tremaining: 318ms\n",
            "83:\tlearn: 7.3060603\ttotal: 1.56s\tremaining: 297ms\n",
            "84:\tlearn: 7.3034085\ttotal: 1.56s\tremaining: 276ms\n",
            "85:\tlearn: 7.3029088\ttotal: 1.57s\tremaining: 256ms\n",
            "86:\tlearn: 7.3024066\ttotal: 1.59s\tremaining: 237ms\n",
            "87:\tlearn: 7.3013590\ttotal: 1.6s\tremaining: 219ms\n",
            "88:\tlearn: 7.3005939\ttotal: 1.62s\tremaining: 201ms\n",
            "89:\tlearn: 7.3005027\ttotal: 1.63s\tremaining: 181ms\n",
            "90:\tlearn: 7.3004766\ttotal: 1.64s\tremaining: 163ms\n",
            "91:\tlearn: 7.3000326\ttotal: 1.66s\tremaining: 144ms\n",
            "92:\tlearn: 7.2999076\ttotal: 1.67s\tremaining: 125ms\n",
            "93:\tlearn: 7.2991490\ttotal: 1.68s\tremaining: 107ms\n",
            "94:\tlearn: 7.2983760\ttotal: 1.69s\tremaining: 89ms\n",
            "95:\tlearn: 7.2974438\ttotal: 1.7s\tremaining: 71ms\n",
            "96:\tlearn: 7.2960268\ttotal: 1.72s\tremaining: 53.2ms\n",
            "97:\tlearn: 7.2952547\ttotal: 1.74s\tremaining: 35.4ms\n",
            "98:\tlearn: 7.2947956\ttotal: 1.75s\tremaining: 17.7ms\n",
            "99:\tlearn: 7.2936162\ttotal: 1.76s\tremaining: 0us\n",
            "5.414538723730111 30.48179012969749 7.566079894671327\n"
          ]
        }
      ]
    },
    {
      "cell_type": "markdown",
      "source": [
        "### Lasso Regression"
      ],
      "metadata": {
        "id": "Z_st2a6lu8TE"
      }
    },
    {
      "cell_type": "code",
      "source": [
        "from sklearn.linear_model import Lasso\n",
        "\n",
        "model_6 = Lasso()\n",
        "model_6, pred_6 = model_predict(model_6, X_train, y_train, X_test)\n",
        "mae, mape, rmse = model_evaluate(pred_6, y_test)\n",
        "print(mae, mape, rmse)"
      ],
      "metadata": {
        "colab": {
          "base_uri": "https://localhost:8080/"
        },
        "id": "DRIwOmpEuToh",
        "outputId": "ebf56028-7792-4ac7-f62d-56cf30ae6cfc"
      },
      "execution_count": null,
      "outputs": [
        {
          "output_type": "stream",
          "name": "stdout",
          "text": [
            "5.818328898748973 32.75958504487473 7.9265688047942\n"
          ]
        }
      ]
    },
    {
      "cell_type": "markdown",
      "source": [
        "---\n",
        "All the models used shows similar results as the previous models selected. In conclusion the price prediction would be almost the same for all the models."
      ],
      "metadata": {
        "id": "kJhj-1liumgv"
      }
    }
  ]
}